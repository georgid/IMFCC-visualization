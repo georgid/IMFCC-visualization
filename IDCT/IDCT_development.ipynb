{
 "cells": [
  {
   "cell_type": "code",
   "execution_count": 1,
   "metadata": {
    "collapsed": false
   },
   "outputs": [
    {
     "name": "stdout",
     "output_type": "stream",
     "text": [
      "[ 1.89736652  0.37174797  0.82789505 -0.60150111]\n"
     ]
    }
   ],
   "source": [
    "import essentia.standard as ess\n",
    "import numpy as np\n",
    "from scipy import pi\n",
    "l= 22\n",
    "inputArray = [1, 1, 0, 0, 1]\n",
    "outputSize = 4\n",
    "inputSize = 5\n",
    "dct2 = ess.DCT(inputSize=len(inputArray), \n",
    "                outputSize=outputSize, \n",
    "                dctType = 2, \n",
    "                liftering = 0)(inputArray)\n",
    "\n",
    "dct3 = ess.DCT(inputSize=len(inputArray), \n",
    "                outputSize=outputSize, \n",
    "                dctType = 3, \n",
    "                liftering = l)(inputArray)\n",
    "\n",
    "print ess.DCT(inputSize=len(inputArray), \n",
    "                outputSize=outputSize, \n",
    "                dctType = 3, \n",
    "                liftering = 0)(inputArray)\n",
    "\n",
    "dct3NoLiftering = dct3\n",
    "N = len(dct3NoLiftering)\n",
    "for i in range(N):\n",
    "    dct3NoLiftering[i] /= 1 + l * np.sin(pi*i/l) / 2\n",
    "\n"
   ]
  },
  {
   "cell_type": "code",
   "execution_count": 21,
   "metadata": {
    "collapsed": false
   },
   "outputs": [
    {
     "name": "stdout",
     "output_type": "stream",
     "text": [
      "[ 1.89736652  0.95370573  3.39358997 -3.35009956]\n"
     ]
    }
   ],
   "source": [
    "dct = ess.DCT(inputSize=5, \n",
    "                outputSize=4, \n",
    "                dctType = 3, \n",
    "                liftering = 22)\n",
    "\n",
    "idct = ess.IDCT(inputSize=4, \n",
    "                outputSize=5, \n",
    "                dctType = 3, \n",
    "                liftering = 22)\n",
    "\n",
    "print dct([ 1, 1, 0, 0, 1 ])"
   ]
  },
  {
   "cell_type": "code",
   "execution_count": 3,
   "metadata": {
    "collapsed": false,
    "scrolled": false
   },
   "outputs": [
    {
     "name": "stdout",
     "output_type": "stream",
     "text": [
      "(5, 4)\n",
      "[[  3.16227766e-01   6.01500955e-01   5.11667274e-01   3.71748034e-01]\n",
      " [  3.16227766e-01   3.71748034e-01  -1.95439508e-01  -6.01500955e-01]\n",
      " [  3.16227766e-01   3.87267321e-17  -6.32455532e-01  -1.16180196e-16]\n",
      " [  3.16227766e-01  -3.71748034e-01  -1.95439508e-01   6.01500955e-01]\n",
      " [  3.16227766e-01  -6.01500955e-01   5.11667274e-01  -3.71748034e-01]]\n",
      "[ 1.02360668  0.93819664  0.07639318 -0.06180349  1.02360687]\n"
     ]
    }
   ],
   "source": [
    "mfccSize= 4\n",
    "freqSize= 5\n",
    "dctTable = np.zeros([freqSize, mfccSize])\n",
    "\n",
    "scaleDefault = np.sqrt(2.0/freqSize)\n",
    "for i in range(mfccSize):\n",
    "    if i == 0:\n",
    "        scale = scaleDefault/2\n",
    "    else:\n",
    "        scale = scaleDefault\n",
    "    for j in range(freqSize):\n",
    "        freqMultiplier = pi / inputSize * i;\n",
    "        dctTable[j][i] =  (scale * np.cos( freqMultiplier * ( j + 0.5) ))  \n",
    "print dctTable.shape\n",
    "dctTable = dctTable\n",
    "inversedDCT = np.zeros(freqSize)\n",
    "for i in range(freqSize):\n",
    "    inversedDCT[i] = 0.0\n",
    "    for j in range(mfccSize):\n",
    "        inversedDCT[i] += dct3NoLiftering[j] * dctTable[i][j];    \n",
    "\n",
    "print dctTable\n",
    "print inversedDCT"
   ]
  },
  {
   "cell_type": "code",
   "execution_count": 4,
   "metadata": {
    "collapsed": false
   },
   "outputs": [
    {
     "name": "stdout",
     "output_type": "stream",
     "text": [
      "(5, 4)\n",
      "[[  4.47213595e-01   6.01500955e-01   5.11667274e-01   3.71748034e-01]\n",
      " [  4.47213595e-01   3.71748034e-01  -1.95439508e-01  -6.01500955e-01]\n",
      " [  4.47213595e-01   3.87267321e-17  -6.32455532e-01  -1.16180196e-16]\n",
      " [  4.47213595e-01  -3.71748034e-01  -1.95439508e-01   6.01500955e-01]\n",
      " [  4.47213595e-01  -6.01500955e-01   5.11667274e-01  -3.71748034e-01]]\n",
      "[ 1.02360667  0.93819663  0.07639316 -0.0618035   1.02360686]\n"
     ]
    }
   ],
   "source": [
    "mfccSize= 4\n",
    "freqSize= 5\n",
    "dctTable = np.zeros([freqSize, mfccSize])\n",
    "\n",
    "scaleDefault = np.sqrt(2.0/freqSize)\n",
    "for i in range(mfccSize):\n",
    "    if i == 0:\n",
    "        scale = scaleDefault/np.sqrt(2)\n",
    "    else:\n",
    "        scale = scaleDefault\n",
    "    for j in range(freqSize):\n",
    "        freqMultiplier = pi / inputSize * i;\n",
    "        dctTable[j][i] =  (scale * np.cos( freqMultiplier * ( j + 0.5) ))  \n",
    "print dctTable.shape\n",
    "dctTable = dctTable\n",
    "inversedDCT = np.zeros(freqSize)\n",
    "for i in range(freqSize):\n",
    "    inversedDCT[i] = 0.0\n",
    "    for j in range(mfccSize):\n",
    "        inversedDCT[i] += dct2[j] * dctTable[i][j];    \n",
    "\n",
    "print dctTable\n",
    "print inversedDCT"
   ]
  }
 ],
 "metadata": {
  "kernelspec": {
   "display_name": "Python 2",
   "language": "python",
   "name": "python2"
  },
  "language_info": {
   "codemirror_mode": {
    "name": "ipython",
    "version": 2
   },
   "file_extension": ".py",
   "mimetype": "text/x-python",
   "name": "python",
   "nbconvert_exporter": "python",
   "pygments_lexer": "ipython2",
   "version": "2.7.12"
  }
 },
 "nbformat": 4,
 "nbformat_minor": 1
}
